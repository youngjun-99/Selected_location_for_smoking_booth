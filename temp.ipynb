{
 "cells": [
  {
   "cell_type": "code",
   "execution_count": null,
   "metadata": {},
   "outputs": [],
   "source": [
    "import googlemaps\n",
    "import pandas as pd\n",
    "from pyproj import Proj, transform"
   ]
  },
  {
   "cell_type": "code",
   "execution_count": 1,
   "metadata": {},
   "outputs": [],
   "source": [
    "import pandas as pd\n",
    "\n",
    "from utils import find_xy, get_api, trans_wtm2wgs84\n"
   ]
  },
  {
   "cell_type": "code",
   "execution_count": 2,
   "metadata": {},
   "outputs": [
    {
     "name": "stderr",
     "output_type": "stream",
     "text": [
      "100%|██████████| 109/109 [01:54<00:00,  1.05s/it]\n"
     ]
    }
   ],
   "source": [
    "alc_store = pd.read_csv(\n",
    "    './data/org/서울시 강동구 유흥주점영업 인허가 정보.csv', encoding='cp949')\n",
    "alc_store = alc_store[alc_store['영업상태명'] == '영업/정상']\n",
    "find_xy(alc_store, '도로명주소', '사업장명').to_csv(\"./data/alc_store.csv\", index=False)"
   ]
  },
  {
   "cell_type": "code",
   "execution_count": 5,
   "metadata": {},
   "outputs": [
    {
     "name": "stderr",
     "output_type": "stream",
     "text": [
      " 40%|████      | 44/109 [00:46<01:08,  1.05s/it]"
     ]
    }
   ],
   "source": [
    "norm_store = pd.read_csv(\n",
    "    './data/org/서울시 강동구 일반음식점 인허가 정보.csv', encoding='cp949')\n",
    "norm_store = norm_store[norm_store['영업상태명'] == '영업/정상']\n",
    "find_xy(norm_store, '도로명주소', '사업장명').to_csv(\"./data/norm_store.csv\", index=False)"
   ]
  }
 ],
 "metadata": {
  "kernelspec": {
   "display_name": "refactoring",
   "language": "python",
   "name": "python3"
  },
  "language_info": {
   "codemirror_mode": {
    "name": "ipython",
    "version": 3
   },
   "file_extension": ".py",
   "mimetype": "text/x-python",
   "name": "python",
   "nbconvert_exporter": "python",
   "pygments_lexer": "ipython3",
   "version": "3.6.13"
  },
  "orig_nbformat": 4,
  "vscode": {
   "interpreter": {
    "hash": "cf52b4289ea11db24ca1be6e335ba9be0aad757dbf313a5e44d8aebba2b63a82"
   }
  }
 },
 "nbformat": 4,
 "nbformat_minor": 2
}
