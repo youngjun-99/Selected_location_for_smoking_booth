{
 "cells": [
  {
   "cell_type": "code",
   "execution_count": null,
   "metadata": {},
   "outputs": [],
   "source": [
    "import googlemaps\n",
    "import pandas as pd\n",
    "from pyproj import Proj, transform"
   ]
  },
  {
   "cell_type": "code",
   "execution_count": null,
   "metadata": {},
   "outputs": [],
   "source": [
    "import pandas as pd\n",
    "\n",
    "from utils import find_xy, get_api, trans_wtm2wgs84\n"
   ]
  },
  {
   "cell_type": "code",
   "execution_count": 56,
   "metadata": {},
   "outputs": [
    {
     "name": "stderr",
     "output_type": "stream",
     "text": [
      "  6%|▌         | 227/4010 [02:06<35:04,  1.80it/s]"
     ]
    }
   ],
   "source": [
    "restaurant = pd.read_csv(\n",
    "    './data/org/서울시 강동구 일반음식점 인허가 정보.csv', encoding='cp949')\n",
    "restaurant = restaurant[restaurant['영업상태명'] == '영업/정상']\n",
    "restaurant = find_xy(restaurant, '도로명주소', '사업장명')\n",
    "restaurant[restaurant['lat'] != 'x좌표없음'].to_csv(\"./data/restaurant.csv\", index=False)"
   ]
  }
 ],
 "metadata": {
  "kernelspec": {
   "display_name": "refactoring",
   "language": "python",
   "name": "python3"
  },
  "language_info": {
   "codemirror_mode": {
    "name": "ipython",
    "version": 3
   },
   "file_extension": ".py",
   "mimetype": "text/x-python",
   "name": "python",
   "nbconvert_exporter": "python",
   "pygments_lexer": "ipython3",
   "version": "3.6.13"
  },
  "orig_nbformat": 4,
  "vscode": {
   "interpreter": {
    "hash": "cf52b4289ea11db24ca1be6e335ba9be0aad757dbf313a5e44d8aebba2b63a82"
   }
  }
 },
 "nbformat": 4,
 "nbformat_minor": 2
}
